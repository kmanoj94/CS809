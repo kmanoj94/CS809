{
  "nbformat": 4,
  "nbformat_minor": 0,
  "metadata": {
    "colab": {
      "name": "PCA.ipynb",
      "provenance": [],
      "collapsed_sections": [],
      "authorship_tag": "ABX9TyOKJV9AHrwRB+lF5vfVi4mW",
      "include_colab_link": true
    },
    "kernelspec": {
      "name": "python3",
      "display_name": "Python 3"
    },
    "accelerator": "TPU"
  },
  "cells": [
    {
      "cell_type": "markdown",
      "metadata": {
        "id": "view-in-github",
        "colab_type": "text"
      },
      "source": [
        "<a href=\"https://colab.research.google.com/github/kmanoj94/CS809/blob/master/PCA.ipynb\" target=\"_parent\"><img src=\"https://colab.research.google.com/assets/colab-badge.svg\" alt=\"Open In Colab\"/></a>"
      ]
    },
    {
      "cell_type": "code",
      "metadata": {
        "id": "p8Mc-l9a2shM",
        "colab_type": "code",
        "colab": {}
      },
      "source": [
        "import numpy as np\n",
        "import pandas as pd"
      ],
      "execution_count": 119,
      "outputs": []
    },
    {
      "cell_type": "code",
      "metadata": {
        "id": "YFypLv44Aj8C",
        "colab_type": "code",
        "colab": {
          "resources": {
            "http://localhost:8080/nbextensions/google.colab/files.js": {
              "data": "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",
              "ok": true,
              "headers": [
                [
                  "content-type",
                  "application/javascript"
                ]
              ],
              "status": 200,
              "status_text": ""
            }
          },
          "base_uri": "https://localhost:8080/",
          "height": 109
        },
        "outputId": "5aa92f35-566f-4953-9019-aa8eac87010d"
      },
      "source": [
        "from google.colab import files\n",
        "files.upload()"
      ],
      "execution_count": 120,
      "outputs": [
        {
          "output_type": "display_data",
          "data": {
            "text/html": [
              "\n",
              "     <input type=\"file\" id=\"files-33cd5cf3-2cf5-45ba-a5b3-a7f9551b30f2\" name=\"files[]\" multiple disabled\n",
              "        style=\"border:none\" />\n",
              "     <output id=\"result-33cd5cf3-2cf5-45ba-a5b3-a7f9551b30f2\">\n",
              "      Upload widget is only available when the cell has been executed in the\n",
              "      current browser session. Please rerun this cell to enable.\n",
              "      </output>\n",
              "      <script src=\"/nbextensions/google.colab/files.js\"></script> "
            ],
            "text/plain": [
              "<IPython.core.display.HTML object>"
            ]
          },
          "metadata": {
            "tags": []
          }
        },
        {
          "output_type": "stream",
          "text": [
            "Saving Pollution.csv to Pollution (1).csv\n"
          ],
          "name": "stdout"
        },
        {
          "output_type": "execute_result",
          "data": {
            "text/plain": [
              "{'Pollution.csv': b'CITY,SO2,MANUF,POP,TEMP,WIND,PRECIP-IN,PRECIP-DAY\\r\\nPhoenix,10,213,582,70.3,6,7.05,36\\r\\nLittle Rock,13,91,132,61,8.2,48.52,100\\r\\nSan Francisco,12,453,716,56.7,8.7,20.66,67\\r\\nDenver,17,454,515,51.9,9,12.95,86\\r\\nHartford,56,412,158,49.1,9,43.37,127\\r\\nWilmington,36,80,80,54,9,40.25,114\\r\\nWashington,29,434,757,57.3,9.3,38.89,111\\r\\nJacksonville,14,136,529,68.4,8.8,54.47,116\\r\\nMiami,10,207,335,75.5,9,59.8,128\\r\\nAtlanta,24,368,497,61.5,9.1,48.34,115\\r\\nChicago,110,3344,3369,50.6,10.4,34.44,122\\r\\nIndianapolis,28,361,746,52.3,9.7,38.74,121\\r\\nDes Moines,17,104,201,49,11.2,30.85,103\\r\\nWichita,8,125,277,56.6,12.7,30.58,82\\r\\nLouisville,30,291,593,55.6,8.3,43.11,123\\r\\nNew Orleans,9,204,361,68.3,8.4,56.77,113\\r\\nBaltimore,47,625,905,55,9.6,41.31,111\\r\\nDetroit,35,1064,1513,49.9,10.1,30.96,129\\r\\nMinneapolis-St. Paul,29,699,744,43.5,10.6,25.94,137\\r\\nKansas City,14,381,507,54.5,10,37,99\\r\\nSt. Louis,56,775,622,55.9,9.5,35.89,105\\r\\nOmaha,14,181,347,51.5,10.9,30.18,98\\r\\nAlbuquerque,11,46,244,56.8,8.9,7.77,58\\r\\nAlbany,46,44,116,47.6,8.8,33.36,135\\r\\nBuffalo,11,391,463,47.1,12.4,36.11,166\\r\\nCincinnati,23,462,453,54,7.1,39.04,132\\r\\nCleveland,65,1007,751,49.7,10.9,34.99,155\\r\\nColumbus,26,266,540,51.5,8.6,37.01,134\\r\\nPhiladelphia,69,1692,1950,54.6,9.6,39.93,115\\r\\nPittsburgh,61,347,520,50.4,9.4,36.22,147\\r\\nProvidence,94,343,179,50,10.6,42.75,125\\r\\nMemphis,10,337,624,61.6,9.2,49.1,105\\r\\nNashville,18,275,448,59.4,7.9,46,119\\r\\nDallas,9,641,844,66.2,10.9,35.94,78\\r\\nHouston,10,721,1233,68.9,10.8,48.19,103\\r\\nSalt Lake City,28,137,176,51,8.7,15.17,89\\r\\nNorfolk,31,96,308,59.3,10.6,44.68,116\\r\\nRichmond,26,197,299,57.8,7.6,42.59,115\\r\\nSeattle,29,379,531,51.1,9.4,38.79,164\\r\\nCharleston,31,35,71,55.2,6.5,40.75,148\\r\\nMilwaukee,16,569,717,45.7,11.8,29.07,123\\r\\n'}"
            ]
          },
          "metadata": {
            "tags": []
          },
          "execution_count": 120
        }
      ]
    },
    {
      "cell_type": "code",
      "metadata": {
        "id": "Y3hSeVU6DB5T",
        "colab_type": "code",
        "colab": {}
      },
      "source": [
        "data=pd.read_csv(\"Pollution.csv\")"
      ],
      "execution_count": 121,
      "outputs": []
    },
    {
      "cell_type": "code",
      "metadata": {
        "id": "cM1ccrLVL_Pz",
        "colab_type": "code",
        "colab": {
          "base_uri": "https://localhost:8080/",
          "height": 34
        },
        "outputId": "3fa61f6e-2edc-4ab6-d819-07c6dad55ef4"
      },
      "source": [
        "data.shape"
      ],
      "execution_count": 122,
      "outputs": [
        {
          "output_type": "execute_result",
          "data": {
            "text/plain": [
              "(41, 8)"
            ]
          },
          "metadata": {
            "tags": []
          },
          "execution_count": 122
        }
      ]
    },
    {
      "cell_type": "code",
      "metadata": {
        "id": "z4RizvK7MF6r",
        "colab_type": "code",
        "colab": {
          "base_uri": "https://localhost:8080/",
          "height": 1000
        },
        "outputId": "956ebd3a-d1b2-41b5-b164-b95ea85d0374"
      },
      "source": [
        "data.head(41)"
      ],
      "execution_count": 123,
      "outputs": [
        {
          "output_type": "execute_result",
          "data": {
            "text/html": [
              "<div>\n",
              "<style scoped>\n",
              "    .dataframe tbody tr th:only-of-type {\n",
              "        vertical-align: middle;\n",
              "    }\n",
              "\n",
              "    .dataframe tbody tr th {\n",
              "        vertical-align: top;\n",
              "    }\n",
              "\n",
              "    .dataframe thead th {\n",
              "        text-align: right;\n",
              "    }\n",
              "</style>\n",
              "<table border=\"1\" class=\"dataframe\">\n",
              "  <thead>\n",
              "    <tr style=\"text-align: right;\">\n",
              "      <th></th>\n",
              "      <th>CITY</th>\n",
              "      <th>SO2</th>\n",
              "      <th>MANUF</th>\n",
              "      <th>POP</th>\n",
              "      <th>TEMP</th>\n",
              "      <th>WIND</th>\n",
              "      <th>PRECIP-IN</th>\n",
              "      <th>PRECIP-DAY</th>\n",
              "    </tr>\n",
              "  </thead>\n",
              "  <tbody>\n",
              "    <tr>\n",
              "      <th>0</th>\n",
              "      <td>Phoenix</td>\n",
              "      <td>10</td>\n",
              "      <td>213</td>\n",
              "      <td>582</td>\n",
              "      <td>70.3</td>\n",
              "      <td>6.0</td>\n",
              "      <td>7.05</td>\n",
              "      <td>36</td>\n",
              "    </tr>\n",
              "    <tr>\n",
              "      <th>1</th>\n",
              "      <td>Little Rock</td>\n",
              "      <td>13</td>\n",
              "      <td>91</td>\n",
              "      <td>132</td>\n",
              "      <td>61.0</td>\n",
              "      <td>8.2</td>\n",
              "      <td>48.52</td>\n",
              "      <td>100</td>\n",
              "    </tr>\n",
              "    <tr>\n",
              "      <th>2</th>\n",
              "      <td>San Francisco</td>\n",
              "      <td>12</td>\n",
              "      <td>453</td>\n",
              "      <td>716</td>\n",
              "      <td>56.7</td>\n",
              "      <td>8.7</td>\n",
              "      <td>20.66</td>\n",
              "      <td>67</td>\n",
              "    </tr>\n",
              "    <tr>\n",
              "      <th>3</th>\n",
              "      <td>Denver</td>\n",
              "      <td>17</td>\n",
              "      <td>454</td>\n",
              "      <td>515</td>\n",
              "      <td>51.9</td>\n",
              "      <td>9.0</td>\n",
              "      <td>12.95</td>\n",
              "      <td>86</td>\n",
              "    </tr>\n",
              "    <tr>\n",
              "      <th>4</th>\n",
              "      <td>Hartford</td>\n",
              "      <td>56</td>\n",
              "      <td>412</td>\n",
              "      <td>158</td>\n",
              "      <td>49.1</td>\n",
              "      <td>9.0</td>\n",
              "      <td>43.37</td>\n",
              "      <td>127</td>\n",
              "    </tr>\n",
              "    <tr>\n",
              "      <th>5</th>\n",
              "      <td>Wilmington</td>\n",
              "      <td>36</td>\n",
              "      <td>80</td>\n",
              "      <td>80</td>\n",
              "      <td>54.0</td>\n",
              "      <td>9.0</td>\n",
              "      <td>40.25</td>\n",
              "      <td>114</td>\n",
              "    </tr>\n",
              "    <tr>\n",
              "      <th>6</th>\n",
              "      <td>Washington</td>\n",
              "      <td>29</td>\n",
              "      <td>434</td>\n",
              "      <td>757</td>\n",
              "      <td>57.3</td>\n",
              "      <td>9.3</td>\n",
              "      <td>38.89</td>\n",
              "      <td>111</td>\n",
              "    </tr>\n",
              "    <tr>\n",
              "      <th>7</th>\n",
              "      <td>Jacksonville</td>\n",
              "      <td>14</td>\n",
              "      <td>136</td>\n",
              "      <td>529</td>\n",
              "      <td>68.4</td>\n",
              "      <td>8.8</td>\n",
              "      <td>54.47</td>\n",
              "      <td>116</td>\n",
              "    </tr>\n",
              "    <tr>\n",
              "      <th>8</th>\n",
              "      <td>Miami</td>\n",
              "      <td>10</td>\n",
              "      <td>207</td>\n",
              "      <td>335</td>\n",
              "      <td>75.5</td>\n",
              "      <td>9.0</td>\n",
              "      <td>59.80</td>\n",
              "      <td>128</td>\n",
              "    </tr>\n",
              "    <tr>\n",
              "      <th>9</th>\n",
              "      <td>Atlanta</td>\n",
              "      <td>24</td>\n",
              "      <td>368</td>\n",
              "      <td>497</td>\n",
              "      <td>61.5</td>\n",
              "      <td>9.1</td>\n",
              "      <td>48.34</td>\n",
              "      <td>115</td>\n",
              "    </tr>\n",
              "    <tr>\n",
              "      <th>10</th>\n",
              "      <td>Chicago</td>\n",
              "      <td>110</td>\n",
              "      <td>3344</td>\n",
              "      <td>3369</td>\n",
              "      <td>50.6</td>\n",
              "      <td>10.4</td>\n",
              "      <td>34.44</td>\n",
              "      <td>122</td>\n",
              "    </tr>\n",
              "    <tr>\n",
              "      <th>11</th>\n",
              "      <td>Indianapolis</td>\n",
              "      <td>28</td>\n",
              "      <td>361</td>\n",
              "      <td>746</td>\n",
              "      <td>52.3</td>\n",
              "      <td>9.7</td>\n",
              "      <td>38.74</td>\n",
              "      <td>121</td>\n",
              "    </tr>\n",
              "    <tr>\n",
              "      <th>12</th>\n",
              "      <td>Des Moines</td>\n",
              "      <td>17</td>\n",
              "      <td>104</td>\n",
              "      <td>201</td>\n",
              "      <td>49.0</td>\n",
              "      <td>11.2</td>\n",
              "      <td>30.85</td>\n",
              "      <td>103</td>\n",
              "    </tr>\n",
              "    <tr>\n",
              "      <th>13</th>\n",
              "      <td>Wichita</td>\n",
              "      <td>8</td>\n",
              "      <td>125</td>\n",
              "      <td>277</td>\n",
              "      <td>56.6</td>\n",
              "      <td>12.7</td>\n",
              "      <td>30.58</td>\n",
              "      <td>82</td>\n",
              "    </tr>\n",
              "    <tr>\n",
              "      <th>14</th>\n",
              "      <td>Louisville</td>\n",
              "      <td>30</td>\n",
              "      <td>291</td>\n",
              "      <td>593</td>\n",
              "      <td>55.6</td>\n",
              "      <td>8.3</td>\n",
              "      <td>43.11</td>\n",
              "      <td>123</td>\n",
              "    </tr>\n",
              "    <tr>\n",
              "      <th>15</th>\n",
              "      <td>New Orleans</td>\n",
              "      <td>9</td>\n",
              "      <td>204</td>\n",
              "      <td>361</td>\n",
              "      <td>68.3</td>\n",
              "      <td>8.4</td>\n",
              "      <td>56.77</td>\n",
              "      <td>113</td>\n",
              "    </tr>\n",
              "    <tr>\n",
              "      <th>16</th>\n",
              "      <td>Baltimore</td>\n",
              "      <td>47</td>\n",
              "      <td>625</td>\n",
              "      <td>905</td>\n",
              "      <td>55.0</td>\n",
              "      <td>9.6</td>\n",
              "      <td>41.31</td>\n",
              "      <td>111</td>\n",
              "    </tr>\n",
              "    <tr>\n",
              "      <th>17</th>\n",
              "      <td>Detroit</td>\n",
              "      <td>35</td>\n",
              "      <td>1064</td>\n",
              "      <td>1513</td>\n",
              "      <td>49.9</td>\n",
              "      <td>10.1</td>\n",
              "      <td>30.96</td>\n",
              "      <td>129</td>\n",
              "    </tr>\n",
              "    <tr>\n",
              "      <th>18</th>\n",
              "      <td>Minneapolis-St. Paul</td>\n",
              "      <td>29</td>\n",
              "      <td>699</td>\n",
              "      <td>744</td>\n",
              "      <td>43.5</td>\n",
              "      <td>10.6</td>\n",
              "      <td>25.94</td>\n",
              "      <td>137</td>\n",
              "    </tr>\n",
              "    <tr>\n",
              "      <th>19</th>\n",
              "      <td>Kansas City</td>\n",
              "      <td>14</td>\n",
              "      <td>381</td>\n",
              "      <td>507</td>\n",
              "      <td>54.5</td>\n",
              "      <td>10.0</td>\n",
              "      <td>37.00</td>\n",
              "      <td>99</td>\n",
              "    </tr>\n",
              "    <tr>\n",
              "      <th>20</th>\n",
              "      <td>St. Louis</td>\n",
              "      <td>56</td>\n",
              "      <td>775</td>\n",
              "      <td>622</td>\n",
              "      <td>55.9</td>\n",
              "      <td>9.5</td>\n",
              "      <td>35.89</td>\n",
              "      <td>105</td>\n",
              "    </tr>\n",
              "    <tr>\n",
              "      <th>21</th>\n",
              "      <td>Omaha</td>\n",
              "      <td>14</td>\n",
              "      <td>181</td>\n",
              "      <td>347</td>\n",
              "      <td>51.5</td>\n",
              "      <td>10.9</td>\n",
              "      <td>30.18</td>\n",
              "      <td>98</td>\n",
              "    </tr>\n",
              "    <tr>\n",
              "      <th>22</th>\n",
              "      <td>Albuquerque</td>\n",
              "      <td>11</td>\n",
              "      <td>46</td>\n",
              "      <td>244</td>\n",
              "      <td>56.8</td>\n",
              "      <td>8.9</td>\n",
              "      <td>7.77</td>\n",
              "      <td>58</td>\n",
              "    </tr>\n",
              "    <tr>\n",
              "      <th>23</th>\n",
              "      <td>Albany</td>\n",
              "      <td>46</td>\n",
              "      <td>44</td>\n",
              "      <td>116</td>\n",
              "      <td>47.6</td>\n",
              "      <td>8.8</td>\n",
              "      <td>33.36</td>\n",
              "      <td>135</td>\n",
              "    </tr>\n",
              "    <tr>\n",
              "      <th>24</th>\n",
              "      <td>Buffalo</td>\n",
              "      <td>11</td>\n",
              "      <td>391</td>\n",
              "      <td>463</td>\n",
              "      <td>47.1</td>\n",
              "      <td>12.4</td>\n",
              "      <td>36.11</td>\n",
              "      <td>166</td>\n",
              "    </tr>\n",
              "    <tr>\n",
              "      <th>25</th>\n",
              "      <td>Cincinnati</td>\n",
              "      <td>23</td>\n",
              "      <td>462</td>\n",
              "      <td>453</td>\n",
              "      <td>54.0</td>\n",
              "      <td>7.1</td>\n",
              "      <td>39.04</td>\n",
              "      <td>132</td>\n",
              "    </tr>\n",
              "    <tr>\n",
              "      <th>26</th>\n",
              "      <td>Cleveland</td>\n",
              "      <td>65</td>\n",
              "      <td>1007</td>\n",
              "      <td>751</td>\n",
              "      <td>49.7</td>\n",
              "      <td>10.9</td>\n",
              "      <td>34.99</td>\n",
              "      <td>155</td>\n",
              "    </tr>\n",
              "    <tr>\n",
              "      <th>27</th>\n",
              "      <td>Columbus</td>\n",
              "      <td>26</td>\n",
              "      <td>266</td>\n",
              "      <td>540</td>\n",
              "      <td>51.5</td>\n",
              "      <td>8.6</td>\n",
              "      <td>37.01</td>\n",
              "      <td>134</td>\n",
              "    </tr>\n",
              "    <tr>\n",
              "      <th>28</th>\n",
              "      <td>Philadelphia</td>\n",
              "      <td>69</td>\n",
              "      <td>1692</td>\n",
              "      <td>1950</td>\n",
              "      <td>54.6</td>\n",
              "      <td>9.6</td>\n",
              "      <td>39.93</td>\n",
              "      <td>115</td>\n",
              "    </tr>\n",
              "    <tr>\n",
              "      <th>29</th>\n",
              "      <td>Pittsburgh</td>\n",
              "      <td>61</td>\n",
              "      <td>347</td>\n",
              "      <td>520</td>\n",
              "      <td>50.4</td>\n",
              "      <td>9.4</td>\n",
              "      <td>36.22</td>\n",
              "      <td>147</td>\n",
              "    </tr>\n",
              "    <tr>\n",
              "      <th>30</th>\n",
              "      <td>Providence</td>\n",
              "      <td>94</td>\n",
              "      <td>343</td>\n",
              "      <td>179</td>\n",
              "      <td>50.0</td>\n",
              "      <td>10.6</td>\n",
              "      <td>42.75</td>\n",
              "      <td>125</td>\n",
              "    </tr>\n",
              "    <tr>\n",
              "      <th>31</th>\n",
              "      <td>Memphis</td>\n",
              "      <td>10</td>\n",
              "      <td>337</td>\n",
              "      <td>624</td>\n",
              "      <td>61.6</td>\n",
              "      <td>9.2</td>\n",
              "      <td>49.10</td>\n",
              "      <td>105</td>\n",
              "    </tr>\n",
              "    <tr>\n",
              "      <th>32</th>\n",
              "      <td>Nashville</td>\n",
              "      <td>18</td>\n",
              "      <td>275</td>\n",
              "      <td>448</td>\n",
              "      <td>59.4</td>\n",
              "      <td>7.9</td>\n",
              "      <td>46.00</td>\n",
              "      <td>119</td>\n",
              "    </tr>\n",
              "    <tr>\n",
              "      <th>33</th>\n",
              "      <td>Dallas</td>\n",
              "      <td>9</td>\n",
              "      <td>641</td>\n",
              "      <td>844</td>\n",
              "      <td>66.2</td>\n",
              "      <td>10.9</td>\n",
              "      <td>35.94</td>\n",
              "      <td>78</td>\n",
              "    </tr>\n",
              "    <tr>\n",
              "      <th>34</th>\n",
              "      <td>Houston</td>\n",
              "      <td>10</td>\n",
              "      <td>721</td>\n",
              "      <td>1233</td>\n",
              "      <td>68.9</td>\n",
              "      <td>10.8</td>\n",
              "      <td>48.19</td>\n",
              "      <td>103</td>\n",
              "    </tr>\n",
              "    <tr>\n",
              "      <th>35</th>\n",
              "      <td>Salt Lake City</td>\n",
              "      <td>28</td>\n",
              "      <td>137</td>\n",
              "      <td>176</td>\n",
              "      <td>51.0</td>\n",
              "      <td>8.7</td>\n",
              "      <td>15.17</td>\n",
              "      <td>89</td>\n",
              "    </tr>\n",
              "    <tr>\n",
              "      <th>36</th>\n",
              "      <td>Norfolk</td>\n",
              "      <td>31</td>\n",
              "      <td>96</td>\n",
              "      <td>308</td>\n",
              "      <td>59.3</td>\n",
              "      <td>10.6</td>\n",
              "      <td>44.68</td>\n",
              "      <td>116</td>\n",
              "    </tr>\n",
              "    <tr>\n",
              "      <th>37</th>\n",
              "      <td>Richmond</td>\n",
              "      <td>26</td>\n",
              "      <td>197</td>\n",
              "      <td>299</td>\n",
              "      <td>57.8</td>\n",
              "      <td>7.6</td>\n",
              "      <td>42.59</td>\n",
              "      <td>115</td>\n",
              "    </tr>\n",
              "    <tr>\n",
              "      <th>38</th>\n",
              "      <td>Seattle</td>\n",
              "      <td>29</td>\n",
              "      <td>379</td>\n",
              "      <td>531</td>\n",
              "      <td>51.1</td>\n",
              "      <td>9.4</td>\n",
              "      <td>38.79</td>\n",
              "      <td>164</td>\n",
              "    </tr>\n",
              "    <tr>\n",
              "      <th>39</th>\n",
              "      <td>Charleston</td>\n",
              "      <td>31</td>\n",
              "      <td>35</td>\n",
              "      <td>71</td>\n",
              "      <td>55.2</td>\n",
              "      <td>6.5</td>\n",
              "      <td>40.75</td>\n",
              "      <td>148</td>\n",
              "    </tr>\n",
              "    <tr>\n",
              "      <th>40</th>\n",
              "      <td>Milwaukee</td>\n",
              "      <td>16</td>\n",
              "      <td>569</td>\n",
              "      <td>717</td>\n",
              "      <td>45.7</td>\n",
              "      <td>11.8</td>\n",
              "      <td>29.07</td>\n",
              "      <td>123</td>\n",
              "    </tr>\n",
              "  </tbody>\n",
              "</table>\n",
              "</div>"
            ],
            "text/plain": [
              "                    CITY  SO2  MANUF   POP  TEMP  WIND  PRECIP-IN  PRECIP-DAY\n",
              "0                Phoenix   10    213   582  70.3   6.0       7.05          36\n",
              "1            Little Rock   13     91   132  61.0   8.2      48.52         100\n",
              "2          San Francisco   12    453   716  56.7   8.7      20.66          67\n",
              "3                 Denver   17    454   515  51.9   9.0      12.95          86\n",
              "4               Hartford   56    412   158  49.1   9.0      43.37         127\n",
              "5             Wilmington   36     80    80  54.0   9.0      40.25         114\n",
              "6             Washington   29    434   757  57.3   9.3      38.89         111\n",
              "7           Jacksonville   14    136   529  68.4   8.8      54.47         116\n",
              "8                  Miami   10    207   335  75.5   9.0      59.80         128\n",
              "9                Atlanta   24    368   497  61.5   9.1      48.34         115\n",
              "10               Chicago  110   3344  3369  50.6  10.4      34.44         122\n",
              "11          Indianapolis   28    361   746  52.3   9.7      38.74         121\n",
              "12            Des Moines   17    104   201  49.0  11.2      30.85         103\n",
              "13               Wichita    8    125   277  56.6  12.7      30.58          82\n",
              "14            Louisville   30    291   593  55.6   8.3      43.11         123\n",
              "15           New Orleans    9    204   361  68.3   8.4      56.77         113\n",
              "16             Baltimore   47    625   905  55.0   9.6      41.31         111\n",
              "17               Detroit   35   1064  1513  49.9  10.1      30.96         129\n",
              "18  Minneapolis-St. Paul   29    699   744  43.5  10.6      25.94         137\n",
              "19           Kansas City   14    381   507  54.5  10.0      37.00          99\n",
              "20             St. Louis   56    775   622  55.9   9.5      35.89         105\n",
              "21                 Omaha   14    181   347  51.5  10.9      30.18          98\n",
              "22           Albuquerque   11     46   244  56.8   8.9       7.77          58\n",
              "23                Albany   46     44   116  47.6   8.8      33.36         135\n",
              "24               Buffalo   11    391   463  47.1  12.4      36.11         166\n",
              "25            Cincinnati   23    462   453  54.0   7.1      39.04         132\n",
              "26             Cleveland   65   1007   751  49.7  10.9      34.99         155\n",
              "27              Columbus   26    266   540  51.5   8.6      37.01         134\n",
              "28          Philadelphia   69   1692  1950  54.6   9.6      39.93         115\n",
              "29            Pittsburgh   61    347   520  50.4   9.4      36.22         147\n",
              "30            Providence   94    343   179  50.0  10.6      42.75         125\n",
              "31               Memphis   10    337   624  61.6   9.2      49.10         105\n",
              "32             Nashville   18    275   448  59.4   7.9      46.00         119\n",
              "33                Dallas    9    641   844  66.2  10.9      35.94          78\n",
              "34               Houston   10    721  1233  68.9  10.8      48.19         103\n",
              "35        Salt Lake City   28    137   176  51.0   8.7      15.17          89\n",
              "36               Norfolk   31     96   308  59.3  10.6      44.68         116\n",
              "37              Richmond   26    197   299  57.8   7.6      42.59         115\n",
              "38               Seattle   29    379   531  51.1   9.4      38.79         164\n",
              "39            Charleston   31     35    71  55.2   6.5      40.75         148\n",
              "40             Milwaukee   16    569   717  45.7  11.8      29.07         123"
            ]
          },
          "metadata": {
            "tags": []
          },
          "execution_count": 123
        }
      ]
    },
    {
      "cell_type": "code",
      "metadata": {
        "id": "H8L2yBmYMKvA",
        "colab_type": "code",
        "colab": {
          "base_uri": "https://localhost:8080/",
          "height": 34
        },
        "outputId": "37595f80-c6a4-4bf5-e97e-b0fac9e06d54"
      },
      "source": [
        "CITY=data['CITY']\n",
        "#dropping city fetaure because it's string value\n",
        "Data=data.drop(\"CITY\",axis=1)\n",
        "print(Data.shape)\n"
      ],
      "execution_count": 124,
      "outputs": [
        {
          "output_type": "stream",
          "text": [
            "(41, 7)\n"
          ],
          "name": "stdout"
        }
      ]
    },
    {
      "cell_type": "code",
      "metadata": {
        "id": "AGZO-xAUPmcJ",
        "colab_type": "code",
        "colab": {
          "base_uri": "https://localhost:8080/",
          "height": 272
        },
        "outputId": "dc2eb544-1a5c-4379-a45a-af06b1bba43a"
      },
      "source": [
        "#defining covariance matrix\n",
        "cov_matrix=np.cov(Data.T)\n",
        "print(cov_matrix)\n",
        "cov_matrix.shape"
      ],
      "execution_count": 125,
      "outputs": [
        {
          "output_type": "stream",
          "text": [
            "[[ 5.50947561e+02  8.52772012e+03  6.71199451e+03 -7.35606707e+01\n",
            "   3.17530488e+00  1.50017988e+01  2.29929878e+02]\n",
            " [ 8.52772012e+03  3.17502890e+05  3.11718814e+05 -7.73971341e+02\n",
            "   1.91548110e+02 -2.15019902e+02  1.96895976e+03]\n",
            " [ 6.71199451e+03  3.11718814e+05  3.35371894e+05 -2.62349634e+02\n",
            "   1.75930061e+02 -1.78052890e+02  6.45985976e+02]\n",
            " [-7.35606707e+01 -7.73971341e+02 -2.62349634e+02  5.22398780e+01\n",
            "  -3.61135366e+00  3.28629884e+01 -8.24261585e+01]\n",
            " [ 3.17530488e+00  1.91548110e+02  1.75930061e+02 -3.61135366e+00\n",
            "   2.04102439e+00 -2.18531098e-01  6.21439024e+00]\n",
            " [ 1.50017988e+01 -2.15019902e+02 -1.78052890e+02  3.28629884e+01\n",
            "  -2.18531098e-01  1.38569384e+02  1.54792902e+02]\n",
            " [ 2.29929878e+02  1.96895976e+03  6.45985976e+02 -8.24261585e+01\n",
            "   6.21439024e+00  1.54792902e+02  7.02590244e+02]]\n"
          ],
          "name": "stdout"
        },
        {
          "output_type": "execute_result",
          "data": {
            "text/plain": [
              "(7, 7)"
            ]
          },
          "metadata": {
            "tags": []
          },
          "execution_count": 125
        }
      ]
    },
    {
      "cell_type": "code",
      "metadata": {
        "id": "Okac20wuRCJR",
        "colab_type": "code",
        "colab": {
          "base_uri": "https://localhost:8080/",
          "height": 204
        },
        "outputId": "abcc4cf4-a6b0-4f84-8ab8-1d205e551fd9"
      },
      "source": [
        "#defining correlation matrix\n",
        "corr_matrix = pd.DataFrame.corr(Data, method='pearson')\n",
        "print(corr_matrix)\n",
        "corr_matrix.shape"
      ],
      "execution_count": 126,
      "outputs": [
        {
          "output_type": "stream",
          "text": [
            "                 SO2     MANUF       POP  ...      WIND  PRECIP-IN  PRECIP-DAY\n",
            "SO2         1.000000  0.644769  0.493780  ...  0.094690   0.054294    0.369564\n",
            "MANUF       0.644769  1.000000  0.955269  ...  0.237947  -0.032417    0.131829\n",
            "POP         0.493780  0.955269  1.000000  ...  0.212644  -0.026119    0.042083\n",
            "TEMP       -0.433600 -0.190042 -0.062678  ... -0.349740   0.386253   -0.430242\n",
            "WIND        0.094690  0.237947  0.212644  ...  1.000000  -0.012994    0.164106\n",
            "PRECIP-IN   0.054294 -0.032417 -0.026119  ... -0.012994   1.000000    0.496097\n",
            "PRECIP-DAY  0.369564  0.131829  0.042083  ...  0.164106   0.496097    1.000000\n",
            "\n",
            "[7 rows x 7 columns]\n"
          ],
          "name": "stdout"
        },
        {
          "output_type": "execute_result",
          "data": {
            "text/plain": [
              "(7, 7)"
            ]
          },
          "metadata": {
            "tags": []
          },
          "execution_count": 126
        }
      ]
    },
    {
      "cell_type": "code",
      "metadata": {
        "id": "QvE_8X3YyqIm",
        "colab_type": "code",
        "colab": {}
      },
      "source": [
        "#finding eigen values and eigen vectors \n",
        "eig_values, eig_vectors = np.linalg.eig(cov_matrix)"
      ],
      "execution_count": 143,
      "outputs": []
    },
    {
      "cell_type": "code",
      "metadata": {
        "id": "jaWraVoXy3NZ",
        "colab_type": "code",
        "colab": {
          "base_uri": "https://localhost:8080/",
          "height": 272
        },
        "outputId": "0dd87306-381d-4e2f-d3c1-a895f33c4817"
      },
      "source": [
        "#eigen vector 7x7 matrix\n",
        "print('Eigenvectors \\n%s' %eig_vectors)"
      ],
      "execution_count": 144,
      "outputs": [
        {
          "output_type": "stream",
          "text": [
            "Eigenvectors \n",
            "[[-1.68607518e-02 -9.98356252e-02 -2.08775573e-01 -9.58831063e-01\n",
            "  -1.52191203e-01 -5.39529110e-02 -2.70413759e-02]\n",
            " [-6.96832794e-01 -7.10249079e-01  6.71822007e-02  7.31978785e-02\n",
            "  -9.64365414e-03 -2.15302321e-03  1.13620790e-03]\n",
            " [-7.17028451e-01  6.92912523e-01 -5.66669352e-02 -4.90666865e-02\n",
            "   1.07354573e-02  2.91575116e-03 -5.68200558e-05]\n",
            " [ 1.14177937e-03  2.58143904e-02  7.16007449e-02  1.10147840e-01\n",
            "  -4.77854201e-01 -8.52534945e-01 -1.64050698e-01]\n",
            " [-4.06752976e-04 -1.01168043e-03 -5.38660645e-03  1.50660878e-02\n",
            "   2.54019170e-02  1.76541256e-01 -9.83834710e-01]\n",
            " [ 4.33692181e-04  1.22593675e-03 -2.65807619e-01  1.62617123e-01\n",
            "  -8.32729325e-01  4.53206155e-01  6.37678770e-02]\n",
            " [-2.88369500e-03 -6.91550513e-02 -9.34279828e-01  1.84590521e-01\n",
            "   2.32812295e-01 -1.83568735e-01 -1.89145450e-02]]\n"
          ],
          "name": "stdout"
        }
      ]
    },
    {
      "cell_type": "code",
      "metadata": {
        "id": "VYdQHUtby8O4",
        "colab_type": "code",
        "colab": {
          "base_uri": "https://localhost:8080/",
          "height": 85
        },
        "outputId": "67459bf5-0c8a-4ce7-bcf6-72638ac29dbc"
      },
      "source": [
        "#printing eigen 7x1 matrix\n",
        "print('\\nEigen Values \\n %s' %eig_values)"
      ],
      "execution_count": 145,
      "outputs": [
        {
          "output_type": "stream",
          "text": [
            "\n",
            "Eigen Values \n",
            " [6.38471962e+05 1.48120379e+04 7.01959940e+02 2.05001941e+02\n",
            " 1.16704681e+02 1.20570493e+01 1.44870440e+00]\n"
          ],
          "name": "stdout"
        }
      ]
    },
    {
      "cell_type": "code",
      "metadata": {
        "id": "0W7uOQBw0dJH",
        "colab_type": "code",
        "colab": {
          "base_uri": "https://localhost:8080/",
          "height": 34
        },
        "outputId": "cb7dc7c5-c311-4cca-d7ba-c9acebce7dfb"
      },
      "source": [
        "#from first two eigen values we are getting 99% variances\n",
        "(100*(eig_values[0] / sum(eig_values)))+(100*(eig_values[1] / sum(eig_values)))"
      ],
      "execution_count": 164,
      "outputs": [
        {
          "output_type": "execute_result",
          "data": {
            "text/plain": [
              "99.84148880397618"
            ]
          },
          "metadata": {
            "tags": []
          },
          "execution_count": 164
        }
      ]
    },
    {
      "cell_type": "code",
      "metadata": {
        "id": "e8JqeMYj1MaE",
        "colab_type": "code",
        "colab": {
          "base_uri": "https://localhost:8080/",
          "height": 51
        },
        "outputId": "a4262ccf-9833-4249-e9c3-5c2ea5b0b001"
      },
      "source": [
        "eig_vectors.T[0]"
      ],
      "execution_count": 150,
      "outputs": [
        {
          "output_type": "execute_result",
          "data": {
            "text/plain": [
              "array([-1.68607518e-02, -6.96832794e-01, -7.17028451e-01,  1.14177937e-03,\n",
              "       -4.06752976e-04,  4.33692181e-04, -2.88369500e-03])"
            ]
          },
          "metadata": {
            "tags": []
          },
          "execution_count": 150
        }
      ]
    },
    {
      "cell_type": "code",
      "metadata": {
        "id": "U4F_2MOi4s3W",
        "colab_type": "code",
        "colab": {
          "base_uri": "https://localhost:8080/",
          "height": 51
        },
        "outputId": "df7f6c7a-c501-4ff0-814d-3769945b9bf6"
      },
      "source": [
        "eig_vectors.T[1]"
      ],
      "execution_count": 149,
      "outputs": [
        {
          "output_type": "execute_result",
          "data": {
            "text/plain": [
              "array([-0.09983563, -0.71024908,  0.69291252,  0.02581439, -0.00101168,\n",
              "        0.00122594, -0.06915505])"
            ]
          },
          "metadata": {
            "tags": []
          },
          "execution_count": 149
        }
      ]
    },
    {
      "cell_type": "code",
      "metadata": {
        "id": "P4ykAk2j9MDa",
        "colab_type": "code",
        "colab": {}
      },
      "source": [
        "Projected_X = Data.dot(eig_vectors.T[0])"
      ],
      "execution_count": 151,
      "outputs": []
    },
    {
      "cell_type": "code",
      "metadata": {
        "id": "yuQAW4pk9TbH",
        "colab_type": "code",
        "colab": {}
      },
      "source": [
        "Projected_y = Data.dot(eig_vectors.T[1])"
      ],
      "execution_count": 152,
      "outputs": []
    },
    {
      "cell_type": "code",
      "metadata": {
        "id": "orWtYaZ19wbA",
        "colab_type": "code",
        "colab": {}
      },
      "source": [
        "result = pd.DataFrame(Projected_X, columns=['PC1'])\n",
        "result['PC2'] = Projected_y"
      ],
      "execution_count": 153,
      "outputs": []
    },
    {
      "cell_type": "code",
      "metadata": {
        "id": "YpEgNQuU9466",
        "colab_type": "code",
        "colab": {
          "base_uri": "https://localhost:8080/",
          "height": 1000
        },
        "outputId": "893e91ab-2d91-4919-ea59-1e7b37d4eeeb"
      },
      "source": [
        "result.head(41)"
      ],
      "execution_count": 154,
      "outputs": [
        {
          "output_type": "execute_result",
          "data": {
            "text/html": [
              "<div>\n",
              "<style scoped>\n",
              "    .dataframe tbody tr th:only-of-type {\n",
              "        vertical-align: middle;\n",
              "    }\n",
              "\n",
              "    .dataframe tbody tr th {\n",
              "        vertical-align: top;\n",
              "    }\n",
              "\n",
              "    .dataframe thead th {\n",
              "        text-align: right;\n",
              "    }\n",
              "</style>\n",
              "<table border=\"1\" class=\"dataframe\">\n",
              "  <thead>\n",
              "    <tr style=\"text-align: right;\">\n",
              "      <th></th>\n",
              "      <th>PC1</th>\n",
              "      <th>PC2</th>\n",
              "    </tr>\n",
              "  </thead>\n",
              "  <tbody>\n",
              "    <tr>\n",
              "      <th>0</th>\n",
              "      <td>-565.927480</td>\n",
              "      <td>250.321421</td>\n",
              "    </tr>\n",
              "    <tr>\n",
              "      <th>1</th>\n",
              "      <td>-158.479743</td>\n",
              "      <td>20.244283</td>\n",
              "    </tr>\n",
              "    <tr>\n",
              "      <th>2</th>\n",
              "      <td>-829.383003</td>\n",
              "      <td>170.031320</td>\n",
              "    </tr>\n",
              "    <tr>\n",
              "      <th>3</th>\n",
              "      <td>-686.105157</td>\n",
              "      <td>28.098865</td>\n",
              "    </tr>\n",
              "    <tr>\n",
              "      <th>4</th>\n",
              "      <td>-401.624828</td>\n",
              "      <td>-196.204378</td>\n",
              "    </tr>\n",
              "    <tr>\n",
              "      <th>5</th>\n",
              "      <td>-113.969176</td>\n",
              "      <td>-11.430467</td>\n",
              "    </tr>\n",
              "    <tr>\n",
              "      <th>6</th>\n",
              "      <td>-845.946515</td>\n",
              "      <td>207.232668</td>\n",
              "    </tr>\n",
              "    <tr>\n",
              "      <th>7</th>\n",
              "      <td>-474.549728</td>\n",
              "      <td>262.360743</td>\n",
              "    </tr>\n",
              "    <tr>\n",
              "      <th>8</th>\n",
              "      <td>-384.878162</td>\n",
              "      <td>77.267125</td>\n",
              "    </tr>\n",
              "    <tr>\n",
              "      <th>9</th>\n",
              "      <td>-613.446409</td>\n",
              "      <td>74.294617</td>\n",
              "    </tr>\n",
              "    <tr>\n",
              "      <th>10</th>\n",
              "      <td>-4748.015727</td>\n",
              "      <td>-58.731557</td>\n",
              "    </tr>\n",
              "    <tr>\n",
              "      <th>11</th>\n",
              "      <td>-787.208320</td>\n",
              "      <td>250.737438</td>\n",
              "    </tr>\n",
              "    <tr>\n",
              "      <th>12</th>\n",
              "      <td>-217.112212</td>\n",
              "      <td>57.880731</td>\n",
              "    </tr>\n",
              "    <tr>\n",
              "      <th>13</th>\n",
              "      <td>-286.019608</td>\n",
              "      <td>98.171970</td>\n",
              "    </tr>\n",
              "    <tr>\n",
              "      <th>14</th>\n",
              "      <td>-628.757928</td>\n",
              "      <td>194.193237</td>\n",
              "    </tr>\n",
              "    <tr>\n",
              "      <th>15</th>\n",
              "      <td>-401.379578</td>\n",
              "      <td>98.361788</td>\n",
              "    </tr>\n",
              "    <tr>\n",
              "      <th>16</th>\n",
              "      <td>-1085.466981</td>\n",
              "      <td>172.272397</td>\n",
              "    </tr>\n",
              "    <tr>\n",
              "      <th>17</th>\n",
              "      <td>-1827.189968</td>\n",
              "      <td>281.572254</td>\n",
              "    </tr>\n",
              "    <tr>\n",
              "      <th>18</th>\n",
              "      <td>-1021.382713</td>\n",
              "      <td>7.837339</td>\n",
              "    </tr>\n",
              "    <tr>\n",
              "      <th>19</th>\n",
              "      <td>-629.474049</td>\n",
              "      <td>73.899828</td>\n",
              "    </tr>\n",
              "    <tr>\n",
              "      <th>20</th>\n",
              "      <td>-987.208575</td>\n",
              "      <td>-130.826110</td>\n",
              "    </tr>\n",
              "    <tr>\n",
              "      <th>21</th>\n",
              "      <td>-375.386804</td>\n",
              "      <td>105.066081</td>\n",
              "    </tr>\n",
              "    <tr>\n",
              "      <th>22</th>\n",
              "      <td>-207.297370</td>\n",
              "      <td>132.756792</td>\n",
              "    </tr>\n",
              "    <tr>\n",
              "      <th>23</th>\n",
              "      <td>-114.935599</td>\n",
              "      <td>36.459282</td>\n",
              "    </tr>\n",
              "    <tr>\n",
              "      <th>24</th>\n",
              "      <td>-605.045562</td>\n",
              "      <td>31.780759</td>\n",
              "    </tr>\n",
              "    <tr>\n",
              "      <th>25</th>\n",
              "      <td>-647.443385</td>\n",
              "      <td>-24.235733</td>\n",
              "    </tr>\n",
              "    <tr>\n",
              "      <th>26</th>\n",
              "      <td>-1241.674424</td>\n",
              "      <td>-210.737023</td>\n",
              "    </tr>\n",
              "    <tr>\n",
              "      <th>27</th>\n",
              "      <td>-573.306327</td>\n",
              "      <td>174.750117</td>\n",
              "    </tr>\n",
              "    <tr>\n",
              "      <th>28</th>\n",
              "      <td>-2578.665830</td>\n",
              "      <td>136.045194</td>\n",
              "    </tr>\n",
              "    <tr>\n",
              "      <th>29</th>\n",
              "      <td>-616.038753</td>\n",
              "      <td>98.938255</td>\n",
              "    </tr>\n",
              "    <tr>\n",
              "      <th>30</th>\n",
              "      <td>-369.235796</td>\n",
              "      <td>-136.280618</td>\n",
              "    </tr>\n",
              "    <tr>\n",
              "      <th>31</th>\n",
              "      <td>-682.641915</td>\n",
              "      <td>186.404890</td>\n",
              "    </tr>\n",
              "    <tr>\n",
              "      <th>32</th>\n",
              "      <td>-513.419859</td>\n",
              "      <td>106.661597</td>\n",
              "    </tr>\n",
              "    <tr>\n",
              "      <th>33</th>\n",
              "      <td>-1052.131769</td>\n",
              "      <td>124.997841</td>\n",
              "    </tr>\n",
              "    <tr>\n",
              "      <th>34</th>\n",
              "      <td>-1386.882977</td>\n",
              "      <td>335.976991</td>\n",
              "    </tr>\n",
              "    <tr>\n",
              "      <th>35</th>\n",
              "      <td>-222.330579</td>\n",
              "      <td>17.024613</td>\n",
              "    </tr>\n",
              "    <tr>\n",
              "      <th>36</th>\n",
              "      <td>-288.515130</td>\n",
              "      <td>135.691099</td>\n",
              "    </tr>\n",
              "    <tr>\n",
              "      <th>37</th>\n",
              "      <td>-352.356197</td>\n",
              "      <td>58.249814</td>\n",
              "    </tr>\n",
              "    <tr>\n",
              "      <th>38</th>\n",
              "      <td>-645.732280</td>\n",
              "      <td>85.872647</td>\n",
              "    </tr>\n",
              "    <tr>\n",
              "      <th>39</th>\n",
              "      <td>-76.169583</td>\n",
              "      <td>12.476555</td>\n",
              "    </tr>\n",
              "    <tr>\n",
              "      <th>40</th>\n",
              "      <td>-911.171739</td>\n",
              "      <td>83.786529</td>\n",
              "    </tr>\n",
              "  </tbody>\n",
              "</table>\n",
              "</div>"
            ],
            "text/plain": [
              "            PC1         PC2\n",
              "0   -565.927480  250.321421\n",
              "1   -158.479743   20.244283\n",
              "2   -829.383003  170.031320\n",
              "3   -686.105157   28.098865\n",
              "4   -401.624828 -196.204378\n",
              "5   -113.969176  -11.430467\n",
              "6   -845.946515  207.232668\n",
              "7   -474.549728  262.360743\n",
              "8   -384.878162   77.267125\n",
              "9   -613.446409   74.294617\n",
              "10 -4748.015727  -58.731557\n",
              "11  -787.208320  250.737438\n",
              "12  -217.112212   57.880731\n",
              "13  -286.019608   98.171970\n",
              "14  -628.757928  194.193237\n",
              "15  -401.379578   98.361788\n",
              "16 -1085.466981  172.272397\n",
              "17 -1827.189968  281.572254\n",
              "18 -1021.382713    7.837339\n",
              "19  -629.474049   73.899828\n",
              "20  -987.208575 -130.826110\n",
              "21  -375.386804  105.066081\n",
              "22  -207.297370  132.756792\n",
              "23  -114.935599   36.459282\n",
              "24  -605.045562   31.780759\n",
              "25  -647.443385  -24.235733\n",
              "26 -1241.674424 -210.737023\n",
              "27  -573.306327  174.750117\n",
              "28 -2578.665830  136.045194\n",
              "29  -616.038753   98.938255\n",
              "30  -369.235796 -136.280618\n",
              "31  -682.641915  186.404890\n",
              "32  -513.419859  106.661597\n",
              "33 -1052.131769  124.997841\n",
              "34 -1386.882977  335.976991\n",
              "35  -222.330579   17.024613\n",
              "36  -288.515130  135.691099\n",
              "37  -352.356197   58.249814\n",
              "38  -645.732280   85.872647\n",
              "39   -76.169583   12.476555\n",
              "40  -911.171739   83.786529"
            ]
          },
          "metadata": {
            "tags": []
          },
          "execution_count": 154
        }
      ]
    },
    {
      "cell_type": "code",
      "metadata": {
        "id": "9_6UWWew_Ueb",
        "colab_type": "code",
        "colab": {
          "base_uri": "https://localhost:8080/",
          "height": 279
        },
        "outputId": "7899d67f-1bff-4229-beef-d8bf880d5898"
      },
      "source": [
        "#scatterd plot of pca\n",
        "import matplotlib.pyplot as plt\n",
        "ax1 = result.plot.scatter(x='PC1',y='PC2',s=100,c='blue')\n",
        "plt.show()\n"
      ],
      "execution_count": 160,
      "outputs": [
        {
          "output_type": "display_data",
          "data": {
            "image/png": "[encoded data removed]",
            "text/plain": [
              "<Figure size 432x288 with 1 Axes>"
            ]
          },
          "metadata": {
            "tags": [],
            "needs_background": "light"
          }
        }
      ]
    }
  ]
}