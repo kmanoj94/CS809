{
  "nbformat": 4,
  "nbformat_minor": 0,
  "metadata": {
    "colab": {
      "name": "Untitled3.ipynb",
      "provenance": [],
      "authorship_tag": "ABX9TyOK5OitssewTg5k4+tcvCeM",
      "include_colab_link": true
    },
    "kernelspec": {
      "name": "python3",
      "display_name": "Python 3"
    },
    "accelerator": "GPU"
  },
  "cells": [
    {
      "cell_type": "markdown",
      "metadata": {
        "id": "view-in-github",
        "colab_type": "text"
      },
      "source": [
        "<a href=\"https://colab.research.google.com/github/kmanoj94/sampling_distribution/blob/master/z_distribution.ipynb\" target=\"_parent\"><img src=\"https://colab.research.google.com/assets/colab-badge.svg\" alt=\"Open In Colab\"/></a>"
      ]
    },
    {
      "cell_type": "code",
      "metadata": {
        "id": "TJsXOtJfMkaK",
        "colab_type": "code",
        "colab": {
          "base_uri": "https://localhost:8080/",
          "height": 119
        },
        "outputId": "aad51def-c0c8-4006-bdad-5a7d95fa8498"
      },
      "source": [
        "import math\n",
        "import matplotlib.pyplot as plt\n",
        "import scipy.integrate \n",
        "import numpy as np\n",
        "import statistics\n",
        "\n",
        "def z_distribution(val):\n",
        "    \n",
        "    x = []\n",
        "    y = []\n",
        "    i = -4\n",
        "    while i<=4:\n",
        "        i+=0.01\n",
        "        x.append(round(i,3))\n",
        "    c = 1/(2*math.pi)**0.5\n",
        "\n",
        "    for j in x:\n",
        "        power = (-j ** 2) / 2\n",
        "        dist = c * (math.e ** power)\n",
        "        y.append(dist)\n",
        "\n",
        "    ninf = -float('inf')\n",
        "    z=0\n",
        "\n",
        "\n",
        "    def f(x):\n",
        "        c = 1/(2*math.pi)**0.5\n",
        "        power = (-x ** 2)/2\n",
        "        std_norm_curve = c*(math.e ** power)\n",
        "        return std_norm_curve\n",
        "\n",
        "    probability, error = scipy.integrate.quad(f, ninf, z)\n",
        "    print(round(probability, 5))\n",
        "\n",
        "    z_table =[]\n",
        "    for row in x:\n",
        "        probability, error = scipy.integrate.quad(f, ninf, row)\n",
        "        z_table.append([row, round(probability,5)])\n",
        "        \n",
        "        \n",
        "\n",
        "    s = 0\n",
        "    sos = 0\n",
        "    for i in z_table:\n",
        "        s += i[0]\n",
        "    mean = s / len(z_table)    \n",
        "    for i in z_table:\n",
        "        temp = i[0] - mean\n",
        "        sos += temp**2\n",
        "    varience = sos / len(z_table)\n",
        "    std = varience ** 0.5\n",
        "    print (mean)\n",
        "    print(std)\n",
        "    \n",
        "    z_score = (val - mean) / std\n",
        "    z_score = round(z_score,2)\n",
        "    print(z_score)\n",
        "    \n",
        "    for row in z_table:\n",
        "        if z_score == float(row[0]):\n",
        "            p = row[1]\n",
        "            print(f\"probability = {p}\")\n",
        "            break\n",
        "    \n",
        "\n",
        "\n",
        "def main():\n",
        "    val = float(input('Enter value to calculate probability(between -4 to 4): '))\n",
        "    z_distribution(val)\n",
        "    \n",
        "if __name__ == '__main__':\n",
        "    main()"
      ],
      "execution_count": 3,
      "outputs": [
        {
          "output_type": "stream",
          "text": [
            "Enter a value to calculate probability(between -4 to 4): 2\n",
            "0.5\n",
            "0.009999999999999952\n",
            "2.312286026136617\n",
            "0.86\n",
            "probability = 0.80511\n"
          ],
          "name": "stdout"
        }
      ]
    }
  ]
}