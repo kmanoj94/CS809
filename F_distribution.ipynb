{
  "nbformat": 4,
  "nbformat_minor": 0,
  "metadata": {
    "colab": {
      "name": "Untitled11.ipynb",
      "provenance": [],
      "authorship_tag": "ABX9TyOYZFMbWUAlqo9GyNMZsGix",
      "include_colab_link": true
    },
    "kernelspec": {
      "name": "python3",
      "display_name": "Python 3"
    },
    "accelerator": "GPU"
  },
  "cells": [
    {
      "cell_type": "markdown",
      "metadata": {
        "id": "view-in-github",
        "colab_type": "text"
      },
      "source": [
        "<a href=\"https://colab.research.google.com/github/kmanoj94/sampling_distribution/blob/master/F_distribution.ipynb\" target=\"_parent\"><img src=\"https://colab.research.google.com/assets/colab-badge.svg\" alt=\"Open In Colab\"/></a>"
      ]
    },
    {
      "cell_type": "code",
      "metadata": {
        "id": "vOpv55hywT9a",
        "colab_type": "code",
        "colab": {
          "base_uri": "https://localhost:8080/",
          "height": 85
        },
        "outputId": "261a342f-ca25-4e84-fd4f-3cacc4df9759"
      },
      "source": [
        "from scipy import stats as st\n",
        "\n",
        "x=float(input(\"Enter the value for F-distribution\"))\n",
        "dof1=int(input(\"Enter the degree of freedom value for numerator:\"))\n",
        "dof2=int(input(\"Enter the degree of freedom value for denominator:\"))\n",
        "F_dis=st.f.cdf(x,dof1,dof2)\n",
        "print(f\"value for F-distribution is: {F_dis}\")"
      ],
      "execution_count": 1,
      "outputs": [
        {
          "output_type": "stream",
          "text": [
            "Enter the value for F-distribution4.0\n",
            "Enter the degree of freedom value for numerator3\n",
            "Enter the degree of freedom value for denominator2\n",
            "value for F-distribution is: 0.7935600855193298\n"
          ],
          "name": "stdout"
        }
      ]
    },
    {
      "cell_type": "code",
      "metadata": {
        "id": "yb6wFL5X0i6C",
        "colab_type": "code",
        "colab": {
          "base_uri": "https://localhost:8080/",
          "height": 85
        },
        "outputId": "c26bc345-d350-4ae2-bf2c-55b80b8c39d1"
      },
      "source": [
        "F=float(input(\"Enter the F-distribution value\"))\n",
        "do1=int(input(\"Enter the degree of freedom value for numerator:\"))\n",
        "do2=int(input(\"Enter the degree of freedom value for denominator:\"))\n",
        "y=st.f.ppf(F,do1,do2)\n",
        "print(f\"the value for which we define F-deistribution is: {y}\") #we get almost same value as we enter before"
      ],
      "execution_count": 4,
      "outputs": [
        {
          "output_type": "stream",
          "text": [
            "Enter the F-distribution value0.7935600855193298\n",
            "Enter the degree of freedom value for numerator:3\n",
            "Enter the degree of freedom value for denominator:2\n",
            "the value for which we define F-deistribution is: 3.9999999999999987\n"
          ],
          "name": "stdout"
        }
      ]
    }
  ]
}