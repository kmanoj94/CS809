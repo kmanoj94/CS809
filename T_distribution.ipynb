{
  "nbformat": 4,
  "nbformat_minor": 0,
  "metadata": {
    "colab": {
      "name": "Untitled4.ipynb",
      "provenance": [],
      "authorship_tag": "ABX9TyNh4Qtu2w6qMF+EQsFMOu0k",
      "include_colab_link": true
    },
    "kernelspec": {
      "name": "python3",
      "display_name": "Python 3"
    },
    "accelerator": "GPU"
  },
  "cells": [
    {
      "cell_type": "markdown",
      "metadata": {
        "id": "view-in-github",
        "colab_type": "text"
      },
      "source": [
        "<a href=\"https://colab.research.google.com/github/kmanoj94/sampling_distribution/blob/master/T_distribution.ipynb\" target=\"_parent\"><img src=\"https://colab.research.google.com/assets/colab-badge.svg\" alt=\"Open In Colab\"/></a>"
      ]
    },
    {
      "cell_type": "code",
      "metadata": {
        "id": "ZzOWPXckLiVf",
        "colab_type": "code",
        "colab": {
          "base_uri": "https://localhost:8080/",
          "height": 68
        },
        "outputId": "2cadee30-3dd6-4240-b047-3f4c09f162ce"
      },
      "source": [
        "from scipy.stats import t\n",
        "# assign probability\n",
        "p =float(input(\"enter the probability\"))\n",
        "dof = int(input(\"enter the degree of freedom\"))\n",
        "# retrieving value whis is <= probability\n",
        "value = t.ppf(p, dof)\n",
        "print(round(value,5))\n",
        "# confirm with cdf p = t.cdf(value, dof) print(p)"
      ],
      "execution_count": 1,
      "outputs": [
        {
          "output_type": "stream",
          "text": [
            "enter the probability0.2\n",
            "enter the degree of freedom2\n",
            "-1.06066\n"
          ],
          "name": "stdout"
        }
      ]
    }
  ]
}