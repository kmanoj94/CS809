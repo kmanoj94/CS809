{
  "nbformat": 4,
  "nbformat_minor": 0,
  "metadata": {
    "colab": {
      "name": "Untitled10.ipynb",
      "provenance": [],
      "authorship_tag": "ABX9TyM3QfVUUvfX0KllaHGHlzfV",
      "include_colab_link": true
    },
    "kernelspec": {
      "name": "python3",
      "display_name": "Python 3"
    },
    "accelerator": "GPU"
  },
  "cells": [
    {
      "cell_type": "markdown",
      "metadata": {
        "id": "view-in-github",
        "colab_type": "text"
      },
      "source": [
        "<a href=\"https://colab.research.google.com/github/kmanoj94/sampling_distribution/blob/master/T_distribution.ipynb\" target=\"_parent\"><img src=\"https://colab.research.google.com/assets/colab-badge.svg\" alt=\"Open In Colab\"/></a>"
      ]
    },
    {
      "cell_type": "code",
      "metadata": {
        "id": "-F459UKpstgO",
        "colab_type": "code",
        "colab": {
          "base_uri": "https://localhost:8080/",
          "height": 68
        },
        "outputId": "f9e15282-d08a-4ad5-c0df-d3f179aebf25"
      },
      "source": [
        "from scipy import stats as st\n",
        "\n",
        "x=float(input(\"Enter the value for T-distribution:\"))\n",
        "dof=int(input(\"Enter the value of degree of freedom:\"))\n",
        "T_dis=st.t.cdf(x,dof)\n",
        "print(f\"value of T-distribution is: {T_dis}\")"
      ],
      "execution_count": 1,
      "outputs": [
        {
          "output_type": "stream",
          "text": [
            "Enter the value for T-distribution5.0\n",
            "Enter the value of degree of freedom4\n",
            "value of T-distribution is: 0.9962547830593628\n"
          ],
          "name": "stdout"
        }
      ]
    },
    {
      "cell_type": "code",
      "metadata": {
        "id": "JoA4S5Q2uEbF",
        "colab_type": "code",
        "colab": {
          "base_uri": "https://localhost:8080/",
          "height": 68
        },
        "outputId": "16e39749-2fad-4ccd-9591-084393bac904"
      },
      "source": [
        "T=float(input(\"Enter the T-distribution value:\"))\n",
        "do=int(input(\"Enter the value of degree of freedom:\"))\n",
        "y=st.t.ppf(T,do)\n",
        "print(f\"value for which we define T-distribution is: {y}\") #we get almost same value as we input before"
      ],
      "execution_count": 2,
      "outputs": [
        {
          "output_type": "stream",
          "text": [
            "Enter the T-distribution value:0.9962547830593628\n",
            "Enter the value of degree of freedom:4\n",
            "value for which we define T-distribution is: 5.000000000238932\n"
          ],
          "name": "stdout"
        }
      ]
    }
  ]
}